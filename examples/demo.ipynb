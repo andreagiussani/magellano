{
 "cells": [
  {
   "cell_type": "code",
   "execution_count": null,
   "id": "65d192ae-4ab9-4802-843e-54264e552e9d",
   "metadata": {
    "tags": []
   },
   "outputs": [],
   "source": [
    "%load_ext autoreload\n",
    "%autoreload 2"
   ]
  },
  {
   "cell_type": "code",
   "execution_count": null,
   "id": "3f5afcbd-e925-416c-b304-23c72c4da776",
   "metadata": {
    "tags": []
   },
   "outputs": [],
   "source": [
    "from datetime import datetime"
   ]
  },
  {
   "cell_type": "code",
   "execution_count": null,
   "id": "c96b8c14-62bb-40f6-b5e8-e51b0121e145",
   "metadata": {
    "tags": []
   },
   "outputs": [],
   "source": [
    "from data_loader.utils import setup_logger"
   ]
  },
  {
   "cell_type": "code",
   "execution_count": null,
   "id": "74cd7370-2735-426c-a123-1cdd2c891a98",
   "metadata": {
    "tags": []
   },
   "outputs": [],
   "source": [
    "from data_loader.orchestrator import DataOrchestrator"
   ]
  },
  {
   "cell_type": "code",
   "execution_count": null,
   "id": "0f31480e-f7b2-4635-bb7e-9c1bdc1a9084",
   "metadata": {
    "tags": []
   },
   "outputs": [],
   "source": [
    "from data_loader.loader import DataLoader"
   ]
  },
  {
   "cell_type": "code",
   "execution_count": null,
   "id": "86ed814f-18a8-485e-a45b-ed0970c6ab2b",
   "metadata": {
    "tags": []
   },
   "outputs": [],
   "source": [
    "logger = setup_logger()"
   ]
  },
  {
   "cell_type": "markdown",
   "id": "c3be8396-4327-4d88-9d7a-524574616d16",
   "metadata": {},
   "source": [
    "## Step 1: Create H3 Indexes (given a specific resolution) "
   ]
  },
  {
   "cell_type": "code",
   "execution_count": null,
   "id": "f1364920-7b54-42bd-bf67-46f5a6e0367e",
   "metadata": {
    "tags": []
   },
   "outputs": [],
   "source": [
    "h3_indexes_df = DataLoader.compute_h3_index_from_file (nc_file_path=\"05/01/total_precipitation/surface.nc\", resolution=10)"
   ]
  },
  {
   "cell_type": "code",
   "execution_count": null,
   "id": "7169f53f-bd71-4c55-9826-4d0e35406b3f",
   "metadata": {
    "tags": []
   },
   "outputs": [],
   "source": [
    "h3_indexes_df.head()"
   ]
  },
  {
   "cell_type": "markdown",
   "id": "957c11ab-d0d2-4e3a-80a5-ab1f45ec4027",
   "metadata": {},
   "source": [
    "## Step 2: Orchestrate the Data Pipeline"
   ]
  },
  {
   "cell_type": "markdown",
   "id": "0e8f6159-01ad-4e3c-9e37-b5a171ef41ea",
   "metadata": {
    "tags": []
   },
   "source": [
    "### Case 1"
   ]
  },
  {
   "cell_type": "code",
   "execution_count": null,
   "id": "89664198-320b-4cfd-a491-2d874531853e",
   "metadata": {
    "tags": []
   },
   "outputs": [],
   "source": [
    "orchestrator2 = DataOrchestrator(\n",
    "    h3_indexes_df, start_day=1, end_day=2, batch_size=5, \n",
    "    datetime_to_filter=datetime(2022, 5, 1, 1, 0, 0), \n",
    "    h3_index_filter='8a1e80433107fff', filter_by_date=False, \n",
    "    process_data=False, output_file = 'output.parquet'\n",
    ")"
   ]
  },
  {
   "cell_type": "code",
   "execution_count": null,
   "id": "a9f48429-9518-4fbd-bd9e-e3722e39029a",
   "metadata": {
    "tags": []
   },
   "outputs": [],
   "source": [
    "orchestrator2.pipeline()"
   ]
  },
  {
   "cell_type": "code",
   "execution_count": null,
   "id": "248a9f2f-01bb-445b-b7ff-d077656b516e",
   "metadata": {
    "tags": []
   },
   "outputs": [],
   "source": [
    "orchestrator2.pipeline.data.shape"
   ]
  },
  {
   "cell_type": "code",
   "execution_count": null,
   "id": "949c2c0e-8b62-4172-800c-de77deefda90",
   "metadata": {
    "tags": []
   },
   "outputs": [],
   "source": [
    "orchestrator2.pipeline.data.head()"
   ]
  },
  {
   "cell_type": "markdown",
   "id": "d0dfa414-63a7-4f25-8c61-5d3bf81a34b1",
   "metadata": {
    "tags": []
   },
   "source": [
    "### Case 2"
   ]
  },
  {
   "cell_type": "code",
   "execution_count": null,
   "id": "9677a215-1693-407e-ba32-644c10ff4983",
   "metadata": {
    "tags": []
   },
   "outputs": [],
   "source": [
    "orchestrator = DataOrchestrator(\n",
    "    h3_indexes_df, start_day=1, end_day=2, batch_size=5,\n",
    "    process_data=False, datetime_to_filter=datetime(2022, 5, 1, 1, 0, 0), h3_index_filter=None,\n",
    "    filter_by_date=False, output_file = 'output.parquet'\n",
    ")"
   ]
  },
  {
   "cell_type": "code",
   "execution_count": null,
   "id": "2d731029-ddaa-4261-9348-535a988613ed",
   "metadata": {
    "tags": []
   },
   "outputs": [],
   "source": [
    "orchestrator.pipeline()"
   ]
  },
  {
   "cell_type": "code",
   "execution_count": null,
   "id": "d38aaa30-678c-4c5f-b682-8f6eca27e5c7",
   "metadata": {
    "tags": []
   },
   "outputs": [],
   "source": [
    "orchestrator.pipeline.data.shape"
   ]
  },
  {
   "cell_type": "code",
   "execution_count": null,
   "id": "9a244992-bb17-482e-bc93-eee2df6ad196",
   "metadata": {
    "tags": []
   },
   "outputs": [],
   "source": [
    "orchestrator.pipeline.data.head()"
   ]
  },
  {
   "cell_type": "markdown",
   "id": "2e169b8b-a331-45f2-9094-fe9dd0d06b07",
   "metadata": {
    "tags": []
   },
   "source": [
    "### Case 3"
   ]
  },
  {
   "cell_type": "code",
   "execution_count": null,
   "id": "35669f4f-3ca8-4126-a8aa-a79fd20ca049",
   "metadata": {
    "tags": []
   },
   "outputs": [],
   "source": [
    "orchestrator3 = DataOrchestrator(\n",
    "    h3_indexes_df, start_day=1, end_day=2, batch_size=5, process_data=False, datetime_to_filter=datetime(2022, 5, 1, 0, 0, 0), \n",
    "    h3_index_filter='8a1e80433107fff', filter_by_date=True, output_file = 'output.parquet'\n",
    ")"
   ]
  },
  {
   "cell_type": "code",
   "execution_count": null,
   "id": "6333adf1-0fab-4d5e-83ab-81249eaeb6c1",
   "metadata": {
    "tags": []
   },
   "outputs": [],
   "source": [
    "orchestrator3.pipeline()"
   ]
  },
  {
   "cell_type": "code",
   "execution_count": null,
   "id": "5bd40bdc-55ea-4fec-903a-a542e3435962",
   "metadata": {
    "tags": []
   },
   "outputs": [],
   "source": [
    "orchestrator3.pipeline.data.shape"
   ]
  },
  {
   "cell_type": "code",
   "execution_count": null,
   "id": "c5bc97d3-77ac-4289-954e-708caa83ead4",
   "metadata": {
    "tags": []
   },
   "outputs": [],
   "source": [
    "orchestrator3.pipeline.data.head()"
   ]
  },
  {
   "cell_type": "markdown",
   "id": "619983f7-bde2-47ce-ba27-552e81c02d95",
   "metadata": {
    "tags": []
   },
   "source": [
    "### Case 4"
   ]
  },
  {
   "cell_type": "code",
   "execution_count": null,
   "id": "88f1336f-8f8c-4d90-8e11-7fd9252d459f",
   "metadata": {
    "tags": []
   },
   "outputs": [],
   "source": [
    "orchestrator4 = DataOrchestrator(\n",
    "    h3_indexes_df, start_day=1, end_day=2, batch_size=5,\n",
    "    datetime_to_filter=datetime(2022, 5, 1, 0, 0, 0), \n",
    "    h3_index_filter='8a1e80433107fff', filter_by_date=True, process_data=True,\n",
    "    output_file = 'output.parquet'\n",
    ")"
   ]
  },
  {
   "cell_type": "code",
   "execution_count": null,
   "id": "929e7cfb-7d7a-4d58-bf29-94a78898cf01",
   "metadata": {
    "tags": []
   },
   "outputs": [],
   "source": [
    "orchestrator4.pipeline()"
   ]
  },
  {
   "cell_type": "code",
   "execution_count": null,
   "id": "f35e1cdd-cda3-41f6-97f4-a12836c76414",
   "metadata": {
    "tags": []
   },
   "outputs": [],
   "source": [
    "orchestrator4.pipeline.data.shape"
   ]
  },
  {
   "cell_type": "code",
   "execution_count": null,
   "id": "249a7d4e-a574-4ff9-975f-9db3cb89494e",
   "metadata": {
    "tags": []
   },
   "outputs": [],
   "source": [
    "orchestrator4.pipeline.transformed_data.head()"
   ]
  },
  {
   "cell_type": "markdown",
   "id": "d12a2967-61e9-48e8-8efc-df624dfd9b1e",
   "metadata": {},
   "source": [
    "## End"
   ]
  }
 ],
 "metadata": {
  "environment": {
   "kernel": "python3",
   "name": "tf2-cpu.2-11.m118",
   "type": "gcloud",
   "uri": "us-docker.pkg.dev/deeplearning-platform-release/gcr.io/tf2-cpu.2-11:m118"
  },
  "kernelspec": {
   "display_name": "Python 3",
   "language": "python",
   "name": "python3"
  },
  "language_info": {
   "codemirror_mode": {
    "name": "ipython",
    "version": 3
   },
   "file_extension": ".py",
   "mimetype": "text/x-python",
   "name": "python",
   "nbconvert_exporter": "python",
   "pygments_lexer": "ipython3",
   "version": "3.10.13"
  }
 },
 "nbformat": 4,
 "nbformat_minor": 5
}
